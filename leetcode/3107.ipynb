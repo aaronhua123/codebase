{
 "cells": [
  {
   "cell_type": "markdown",
   "id": "748ad4fd-5ddb-4137-b3ca-961592feb17a",
   "metadata": {
    "ExecuteTime": {
     "end_time": "2024-04-09T13:54:20.659272300Z",
     "start_time": "2024-04-09T13:54:20.659272300Z"
    }
   },
   "source": []
  },
  {
   "cell_type": "code",
   "execution_count": null,
   "id": "78ccdd80ddfe39d6",
   "metadata": {
    "collapsed": false,
    "jupyter": {
     "outputs_hidden": false
    }
   },
   "outputs": [],
   "source": []
  }
 ],
 "metadata": {
  "kernelspec": {
   "display_name": "Python 3 (ipykernel)",
   "language": "python",
   "name": "python3"
  },
  "language_info": {
   "codemirror_mode": {
    "name": "ipython",
    "version": 3
   },
   "file_extension": ".py",
   "mimetype": "text/x-python",
   "name": "python",
   "nbconvert_exporter": "python",
   "pygments_lexer": "ipython3",
   "version": "3.11.5"
  }
 },
 "nbformat": 4,
 "nbformat_minor": 5
}
